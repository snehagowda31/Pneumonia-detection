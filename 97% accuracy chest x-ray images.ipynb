{
 "cells": [
  {
   "cell_type": "code",
   "execution_count": 1,
   "id": "81e79c93",
   "metadata": {},
   "outputs": [],
   "source": [
    "import numpy as np # linear algebra\n",
    "import pandas as pd # data processing, CSV file I/O (e.g. pd.read_csv)\n",
    "import cv2 # import cv2"
   ]
  },
  {
   "cell_type": "code",
   "execution_count": 2,
   "id": "5b9afdcb",
   "metadata": {},
   "outputs": [
    {
     "name": "stdout",
     "output_type": "stream",
     "text": [
      "['.ipynb_checkpoints', '97% accuracy chest x-ray images.ipynb', 'chest_xray', 'model.h5', 'templates', 'Untitled.ipynb', 'Untitled1.ipynb']\n"
     ]
    }
   ],
   "source": [
    "import os\n",
    "print(os.listdir(\"C:/Users/shara/Downloads/MAJOR PROJECT\"))"
   ]
  },
  {
   "cell_type": "code",
   "execution_count": 3,
   "id": "0f6ce530",
   "metadata": {},
   "outputs": [
    {
     "name": "stdout",
     "output_type": "stream",
     "text": [
      "['google images', 'test', 'train', 'val']\n"
     ]
    }
   ],
   "source": [
    "DIR = os.listdir('C:/Users/shara/Downloads/MAJOR PROJECT/chest_xray')\n",
    "print(DIR)"
   ]
  },
  {
   "cell_type": "code",
   "execution_count": 4,
   "id": "c7444652",
   "metadata": {},
   "outputs": [],
   "source": [
    "train_folder = 'C:/Users/shara/Downloads/MAJOR PROJECT/chest_xray/train'\n",
    "test_folder = 'C:/Users/shara/Downloads/MAJOR PROJECT/chest_xray/test'\n",
    "val_folder = 'C:/Users/shara/Downloads/MAJOR PROJECT/chest_xray/val'"
   ]
  },
  {
   "cell_type": "code",
   "execution_count": 5,
   "id": "a337fd45",
   "metadata": {},
   "outputs": [],
   "source": [
    "import matplotlib.pyplot as plt\n",
    "import seaborn as sns\n",
    "from PIL import Image\n",
    "import random"
   ]
  },
  {
   "cell_type": "code",
   "execution_count": 6,
   "id": "e3b99552",
   "metadata": {},
   "outputs": [],
   "source": [
    "#(Image preprocessing)\n",
    "labels = [\"NORMAL\", \"PNEUMONIA\"] # each folder has two sub folder name \"PNEUMONIA\", \"NORMAL\"\n",
    "IMG_SIZE = 50 # resize image\n",
    "data = []\n",
    "def get_data_train(data_dir):\n",
    "    for label in labels:\n",
    "        path = os.path.join(data_dir, label)\n",
    "        class_num = labels.index(label)\n",
    "        for img in os.listdir(path):\n",
    "            try:\n",
    "                img_array = cv2.imread(os.path.join(path, img), cv2.IMREAD_GRAYSCALE)\n",
    "                new_array = cv2.resize(img_array, (IMG_SIZE, IMG_SIZE))\n",
    "                data.append([new_array, class_num])\n",
    "            except Exception as e:\n",
    "                print(e)\n",
    "    return np.array(data)"
   ]
  },
  {
   "cell_type": "code",
   "execution_count": 8,
   "id": "56cca31f",
   "metadata": {},
   "outputs": [
    {
     "name": "stderr",
     "output_type": "stream",
     "text": [
      "<ipython-input-6-e03166666dd6>:16: VisibleDeprecationWarning: Creating an ndarray from ragged nested sequences (which is a list-or-tuple of lists-or-tuples-or ndarrays with different lengths or shapes) is deprecated. If you meant to do this, you must specify 'dtype=object' when creating the ndarray.\n",
      "  return np.array(data)\n"
     ]
    }
   ],
   "source": [
    "train = get_data_train(train_folder)\n",
    "test = get_data_train(test_folder)\n",
    "val = get_data_train(val_folder)"
   ]
  },
  {
   "cell_type": "code",
   "execution_count": 9,
   "id": "0c01ed0c",
   "metadata": {},
   "outputs": [
    {
     "name": "stderr",
     "output_type": "stream",
     "text": [
      "C:\\Users\\shara\\anaconda3\\lib\\site-packages\\seaborn\\_decorators.py:36: FutureWarning: Pass the following variable as a keyword arg: x. From version 0.12, the only valid positional argument will be `data`, and passing other arguments without an explicit keyword will result in an error or misinterpretation.\n",
      "  warnings.warn(\n"
     ]
    },
    {
     "data": {
      "text/plain": [
       "<AxesSubplot:ylabel='count'>"
      ]
     },
     "execution_count": 9,
     "metadata": {},
     "output_type": "execute_result"
    },
    {
     "data": {
      "image/png": "[encoded data removed]",
      "text/plain": [
       "<Figure size 432x288 with 1 Axes>"
      ]
     },
     "metadata": {
      "needs_background": "light"
     },
     "output_type": "display_data"
    }
   ],
   "source": [
    "#classification\n",
    "l = []\n",
    "for i in train:\n",
    "    if(i[1] == 0):\n",
    "        l.append(\"Normal\")\n",
    "    else:\n",
    "        l.append(\"Pneumonia\")\n",
    "        \n",
    "sns.countplot(l)"
   ]
  },
  {
   "cell_type": "code",
   "execution_count": 10,
   "id": "b17832d8",
   "metadata": {},
   "outputs": [],
   "source": [
    "#feature extraction\n",
    "X_train = []\n",
    "y_train = []\n",
    "\n",
    "X_val = []\n",
    "y_val = []\n",
    "\n",
    "X_test = []\n",
    "y_test = []\n",
    "\n",
    "for feature, label in train:\n",
    "    X_train.append(feature)\n",
    "    y_train.append(label)\n",
    "\n",
    "for feature, label in test:\n",
    "    X_test.append(feature)\n",
    "    y_test.append(label)\n",
    "    \n",
    "for feature, label in val:\n",
    "    X_val.append(feature)\n",
    "    y_val.append(label)"
   ]
  },
  {
   "cell_type": "markdown",
   "id": "64074c48",
   "metadata": {},
   "source": [
    "#normalization"
   ]
  },
  {
   "cell_type": "code",
   "execution_count": 11,
   "id": "b90842c8",
   "metadata": {},
   "outputs": [],
   "source": [
    "X_train = np.array(X_train) / 255\n",
    "X_val = np.array(X_val) / 255\n",
    "X_test = np.array(X_test) / 255"
   ]
  },
  {
   "cell_type": "code",
   "execution_count": 12,
   "id": "19b3199b",
   "metadata": {},
   "outputs": [
    {
     "data": {
      "text/plain": [
       "(6662, 50, 50)"
      ]
     },
     "execution_count": 12,
     "metadata": {},
     "output_type": "execute_result"
    }
   ],
   "source": [
    "X_test.shape"
   ]
  },
  {
   "cell_type": "markdown",
   "id": "d404825a",
   "metadata": {},
   "source": [
    "reshape train, test and validation"
   ]
  },
  {
   "cell_type": "code",
   "execution_count": 13,
   "id": "a5465ad4",
   "metadata": {},
   "outputs": [],
   "source": [
    "X_train = X_train.reshape(-1, IMG_SIZE, IMG_SIZE, 1)\n",
    "y_train = np.array(y_train)\n",
    "\n",
    "X_val = X_val.reshape(-1, IMG_SIZE, IMG_SIZE, 1)\n",
    "y_val = np.array(y_val)\n",
    "\n",
    "X_test = X_test.reshape(-1, IMG_SIZE, IMG_SIZE, 1)\n",
    "y_test = np.array(y_test)"
   ]
  },
  {
   "cell_type": "code",
   "execution_count": 14,
   "id": "4d1bcb59",
   "metadata": {},
   "outputs": [
    {
     "data": {
      "text/plain": [
       "(6662, 50, 50, 1)"
      ]
     },
     "execution_count": 14,
     "metadata": {},
     "output_type": "execute_result"
    }
   ],
   "source": [
    "X_test.shape"
   ]
  },
  {
   "cell_type": "code",
   "execution_count": 15,
   "id": "3f176cfd",
   "metadata": {},
   "outputs": [],
   "source": [
    "import tensorflow as tf\n",
    "from tensorflow.keras.layers import Flatten, Conv2D, Activation, Dense, Dropout, MaxPooling2D\n",
    "from tensorflow.keras.models import Sequential"
   ]
  },
  {
   "cell_type": "markdown",
   "id": "da264eca",
   "metadata": {},
   "source": [
    "Training the model"
   ]
  },
  {
   "cell_type": "code",
   "execution_count": 16,
   "id": "1760ec57",
   "metadata": {},
   "outputs": [
    {
     "name": "stdout",
     "output_type": "stream",
     "text": [
      "Epoch 1/25\n",
      "189/189 [==============================] - 19s 95ms/step - loss: 0.3426 - accuracy: 0.8349 - val_loss: 0.1607 - val_accuracy: 0.9409\n",
      "Epoch 2/25\n",
      "189/189 [==============================] - 18s 94ms/step - loss: 0.1344 - accuracy: 0.9462 - val_loss: 0.1342 - val_accuracy: 0.9516\n",
      "Epoch 3/25\n",
      "189/189 [==============================] - 21s 111ms/step - loss: 0.1108 - accuracy: 0.9596 - val_loss: 0.1404 - val_accuracy: 0.9560\n",
      "Epoch 4/25\n",
      "189/189 [==============================] - 20s 108ms/step - loss: 0.1009 - accuracy: 0.9614 - val_loss: 0.1539 - val_accuracy: 0.9531\n",
      "Epoch 5/25\n",
      "189/189 [==============================] - 20s 108ms/step - loss: 0.0870 - accuracy: 0.9675 - val_loss: 0.1186 - val_accuracy: 0.9590\n",
      "Epoch 6/25\n",
      "189/189 [==============================] - 21s 109ms/step - loss: 0.0729 - accuracy: 0.9732 - val_loss: 0.1712 - val_accuracy: 0.9453\n",
      "Epoch 7/25\n",
      "189/189 [==============================] - 21s 109ms/step - loss: 0.0700 - accuracy: 0.9757 - val_loss: 0.1164 - val_accuracy: 0.9617\n",
      "Epoch 8/25\n",
      "189/189 [==============================] - 21s 109ms/step - loss: 0.0633 - accuracy: 0.9765 - val_loss: 0.1442 - val_accuracy: 0.9576\n",
      "Epoch 9/25\n",
      "189/189 [==============================] - 21s 109ms/step - loss: 0.0628 - accuracy: 0.9760 - val_loss: 0.1080 - val_accuracy: 0.9656\n",
      "Epoch 10/25\n",
      "189/189 [==============================] - 21s 109ms/step - loss: 0.0537 - accuracy: 0.9806 - val_loss: 0.1014 - val_accuracy: 0.9692\n",
      "Epoch 11/25\n",
      "189/189 [==============================] - 21s 109ms/step - loss: 0.0511 - accuracy: 0.9805 - val_loss: 0.1193 - val_accuracy: 0.9696\n",
      "Epoch 12/25\n",
      "189/189 [==============================] - 21s 111ms/step - loss: 0.0430 - accuracy: 0.9829 - val_loss: 0.1458 - val_accuracy: 0.9702\n",
      "Epoch 13/25\n",
      "189/189 [==============================] - 21s 112ms/step - loss: 0.0468 - accuracy: 0.9833 - val_loss: 0.1441 - val_accuracy: 0.9687\n",
      "Epoch 14/25\n",
      "189/189 [==============================] - 21s 114ms/step - loss: 0.0408 - accuracy: 0.9854 - val_loss: 0.1642 - val_accuracy: 0.9696\n",
      "Epoch 15/25\n",
      "189/189 [==============================] - 21s 111ms/step - loss: 0.0369 - accuracy: 0.9869 - val_loss: 0.1708 - val_accuracy: 0.9690\n",
      "Epoch 16/25\n",
      "189/189 [==============================] - 21s 110ms/step - loss: 0.0400 - accuracy: 0.9848 - val_loss: 0.1312 - val_accuracy: 0.9742\n",
      "Epoch 17/25\n",
      "189/189 [==============================] - 21s 111ms/step - loss: 0.0291 - accuracy: 0.9886 - val_loss: 0.1226 - val_accuracy: 0.9732\n",
      "Epoch 18/25\n",
      "189/189 [==============================] - 21s 111ms/step - loss: 0.0325 - accuracy: 0.9874 - val_loss: 0.1368 - val_accuracy: 0.9751\n",
      "Epoch 19/25\n",
      "189/189 [==============================] - 21s 113ms/step - loss: 0.0274 - accuracy: 0.9904 - val_loss: 0.1526 - val_accuracy: 0.9757\n",
      "Epoch 20/25\n",
      "189/189 [==============================] - 21s 110ms/step - loss: 0.0221 - accuracy: 0.9925 - val_loss: 0.1680 - val_accuracy: 0.9765\n",
      "Epoch 21/25\n",
      "189/189 [==============================] - 21s 111ms/step - loss: 0.0259 - accuracy: 0.9894 - val_loss: 0.1480 - val_accuracy: 0.9641\n",
      "Epoch 22/25\n",
      "189/189 [==============================] - 21s 111ms/step - loss: 0.0249 - accuracy: 0.9916 - val_loss: 0.1465 - val_accuracy: 0.9763\n",
      "Epoch 23/25\n",
      "189/189 [==============================] - 21s 111ms/step - loss: 0.0249 - accuracy: 0.9919 - val_loss: 0.1431 - val_accuracy: 0.9777\n",
      "Epoch 24/25\n",
      "189/189 [==============================] - 21s 110ms/step - loss: 0.0196 - accuracy: 0.9922 - val_loss: 0.1459 - val_accuracy: 0.9795\n",
      "Epoch 25/25\n",
      "189/189 [==============================] - 21s 111ms/step - loss: 0.0159 - accuracy: 0.9939 - val_loss: 0.1903 - val_accuracy: 0.9736\n",
      "209/209 [==============================] - 5s 22ms/step - loss: 0.1901 - accuracy: 0.9739\n"
     ]
    }
   ],
   "source": [
    "model = Sequential()\n",
    "\n",
    "model.add(Conv2D(32, (3, 3), padding=\"same\", input_shape=X_train.shape[1:]))\n",
    "model.add(Activation(\"relu\"))\n",
    "model.add(MaxPooling2D(2, 2))\n",
    "model.add(Dropout(0.2))\n",
    "\n",
    "model.add(Conv2D(64, (3, 3), padding=\"same\"))\n",
    "model.add(Activation(\"relu\"))\n",
    "model.add(MaxPooling2D(2, 2))\n",
    "model.add(Dropout(0.2))\n",
    "\n",
    "model.add(Conv2D(128, (3, 3), padding=\"same\"))\n",
    "model.add(Activation(\"relu\"))\n",
    "model.add(MaxPooling2D(2, 2))\n",
    "model.add(Dropout(0.2))\n",
    "\n",
    "model.add(Flatten())\n",
    "model.add(Dense(128, activation=\"relu\"))\n",
    "\n",
    "model.add(Dense(1))\n",
    "model.add(Activation(\"sigmoid\"))\n",
    "\n",
    "model.compile(loss=\"binary_crossentropy\", optimizer=\"adam\", metrics=[\"accuracy\"])\n",
    "history = model.fit(X_train, y_train, epochs=25, validation_data=(X_val, y_val), shuffle=True)\n",
    "scores = model.evaluate(X_test, y_test)\n",
    "\n",
    "#model.save(\"cnn.model\")\n",
    "model.save('model.h5')"
   ]
  },
  {
   "cell_type": "code",
   "execution_count": 17,
   "id": "27a4be1c",
   "metadata": {},
   "outputs": [
    {
     "name": "stdout",
     "output_type": "stream",
     "text": [
      "Test loss is ===>  19.011861085891724 %\n",
      "Test accuracy is ===>  97.3881721496582 %\n"
     ]
    }
   ],
   "source": [
    "#scores\n",
    "print(\"Test loss is ===>  {} %\".format(scores[0]*100))\n",
    "print(\"Test accuracy is ===>  {} %\".format(scores[1]*100))"
   ]
  },
  {
   "cell_type": "code",
   "execution_count": 18,
   "id": "acac9668",
   "metadata": {},
   "outputs": [],
   "source": [
    "y_pred = model.predict(X_test)"
   ]
  },
  {
   "cell_type": "code",
   "execution_count": 19,
   "id": "b410db11",
   "metadata": {},
   "outputs": [
    {
     "name": "stdout",
     "output_type": "stream",
     "text": [
      "105/105 [==============================] - 3s 31ms/step\n",
      "              precision    recall  f1-score   support\n",
      "\n",
      "           0       0.36      1.00      0.53      2397\n",
      "           1       0.00      0.00      0.00      4265\n",
      "\n",
      "    accuracy                           0.36      6662\n",
      "   macro avg       0.18      0.50      0.26      6662\n",
      "weighted avg       0.13      0.36      0.19      6662\n",
      "\n"
     ]
    },
    {
     "name": "stderr",
     "output_type": "stream",
     "text": [
      "C:\\Users\\shara\\anaconda3\\lib\\site-packages\\sklearn\\metrics\\_classification.py:1245: UndefinedMetricWarning: Precision and F-score are ill-defined and being set to 0.0 in labels with no predicted samples. Use `zero_division` parameter to control this behavior.\n",
      "  _warn_prf(average, modifier, msg_start, len(result))\n",
      "C:\\Users\\shara\\anaconda3\\lib\\site-packages\\sklearn\\metrics\\_classification.py:1245: UndefinedMetricWarning: Precision and F-score are ill-defined and being set to 0.0 in labels with no predicted samples. Use `zero_division` parameter to control this behavior.\n",
      "  _warn_prf(average, modifier, msg_start, len(result))\n",
      "C:\\Users\\shara\\anaconda3\\lib\\site-packages\\sklearn\\metrics\\_classification.py:1245: UndefinedMetricWarning: Precision and F-score are ill-defined and being set to 0.0 in labels with no predicted samples. Use `zero_division` parameter to control this behavior.\n",
      "  _warn_prf(average, modifier, msg_start, len(result))\n"
     ]
    }
   ],
   "source": [
    "# from sklearn.metrics import classification_report\n",
    "# y_pred = model.predict(X_test , batch_size=64, verbose=1)\n",
    "# y_pred_bool = np.argmax(y_pred,axis=1)\n",
    "\n",
    "# print(classification_report(y_test,y_pred_bool))"
   ]
  },
  {
   "cell_type": "code",
   "execution_count": 22,
   "id": "0a67a775",
   "metadata": {},
   "outputs": [],
   "source": [
    "from keras import backend as K\n",
    "\n",
    "def recall_m(y_true, y_pred):\n",
    "    true_positives = K.sum(K.round(K.clip(y_true * y_pred, 0, 1)))\n",
    "    possible_positives = K.sum(K.round(K.clip(y_true, 0, 1)))\n",
    "    recall = true_positives / (possible_positives + K.epsilon())\n",
    "    return recall\n",
    "\n",
    "def precision_m(y_true, y_pred):\n",
    "    true_positives = K.sum(K.round(K.clip(y_true * y_pred, 0, 1)))\n",
    "    predicted_positives = K.sum(K.round(K.clip(y_pred, 0, 1)))\n",
    "    precision = true_positives / (predicted_positives + K.epsilon())\n",
    "    return precision\n",
    "\n",
    "def f1_m(y_true, y_pred):\n",
    "    precision = precision_m(y_true, y_pred)\n",
    "    recall = recall_m(y_true, y_pred)\n",
    "    return 2*((precision*recall)/(precision+recall+K.epsilon()))\n",
    "\n",
    "# compile the model\n",
    "model.compile(optimizer='adam', loss='binary_crossentropy', metrics=['acc',f1_m,precision_m, recall_m])\n",
    "\n",
    "# fit the model\n",
    "history = model.fit(X_train, y_train, validation_split=0.3, epochs=10, verbose=0)\n",
    "\n",
    "# evaluate the model\n",
    "loss, accuracy, f1_score, precision, recall = model.evaluate(X_test, y_test, verbose=0)"
   ]
  },
  {
   "cell_type": "code",
   "execution_count": 28,
   "id": "00b2c220",
   "metadata": {},
   "outputs": [
    {
     "name": "stdout",
     "output_type": "stream",
     "text": [
      "0.2961326241493225\n",
      "0.9732813239097595\n",
      "0.6442021131515503\n",
      "0.6444377899169922\n"
     ]
    }
   ],
   "source": [
    "print(loss)\n",
    "print(accuracy)\n",
    "print(precision)\n",
    "print(recall)"
   ]
  },
  {
   "cell_type": "code",
   "execution_count": 20,
   "id": "470bb865",
   "metadata": {},
   "outputs": [
    {
     "data": {
      "image/png": "[encoded data removed]",
      "text/plain": [
       "<Figure size 432x288 with 1 Axes>"
      ]
     },
     "metadata": {
      "needs_background": "light"
     },
     "output_type": "display_data"
    },
    {
     "data": {
      "image/png": "[encoded data removed]",
      "text/plain": [
       "<Figure size 432x288 with 1 Axes>"
      ]
     },
     "metadata": {
      "needs_background": "light"
     },
     "output_type": "display_data"
    }
   ],
   "source": [
    "# visualization\n",
    "\n",
    "import matplotlib.pyplot as plt\n",
    "accuracy = history.history['accuracy']\n",
    "val_accuracy = history.history['val_accuracy']\n",
    "loss = history.history['loss']\n",
    "val_loss = history.history['val_loss']\n",
    "epochs = range(len(accuracy))\n",
    "\n",
    "plt.plot(epochs, accuracy, \"b\", label=\"trainning accuracy\")\n",
    "plt.plot(epochs, val_accuracy, \"r\", label=\"validation accuracy\")\n",
    "plt.legend()\n",
    "plt.show()\n",
    "\n",
    "plt.plot(epochs, loss, \"b\", label=\"trainning loss\")\n",
    "plt.plot(epochs, val_loss, \"r\", label=\"validation loss\")\n",
    "plt.legend()\n",
    "plt.show()"
   ]
  },
  {
   "cell_type": "code",
   "execution_count": 25,
   "id": "7c21686e",
   "metadata": {},
   "outputs": [
    {
     "data": {
      "text/plain": [
       "array([0, 0, 0, 0, 0, 0, 0, 0, 0, 0, 0, 0, 0, 0, 0])"
      ]
     },
     "execution_count": 25,
     "metadata": {},
     "output_type": "execute_result"
    }
   ],
   "source": [
    "# predict classes\n",
    "\n",
    "# prediction = model.predict_classes(X_test)\n",
    "prediction = (model.predict(X_test) > 0.5).astype(\"int32\")\n",
    "prediction = prediction.reshape(1, -1)[0]\n",
    "prediction[:15]"
   ]
  },
  {
   "cell_type": "code",
   "execution_count": 27,
   "id": "1f030598",
   "metadata": {},
   "outputs": [],
   "source": [
    "#correct and incorrect\n",
    "# you can check tensorflow website\n",
    "\n",
    "correct = np.nonzero(prediction == y_test)[0]\n",
    "incorrect = np.nonzero(prediction != y_test)[0]"
   ]
  },
  {
   "cell_type": "markdown",
   "id": "fb9657ee",
   "metadata": {},
   "source": [
    "some correct visualize"
   ]
  },
  {
   "cell_type": "code",
   "execution_count": 28,
   "id": "547ecf58",
   "metadata": {},
   "outputs": [
    {
     "data": {
      "image/png": "[encoded data removed]",
      "text/plain": [
       "<Figure size 432x288 with 6 Axes>"
      ]
     },
     "metadata": {},
     "output_type": "display_data"
    }
   ],
   "source": [
    "j = 0\n",
    "for i in correct[:6]:\n",
    "    plt.subplot(3,3,j+1)\n",
    "    plt.xticks([])\n",
    "    plt.yticks([])\n",
    "    plt.imshow(X_test[i].reshape(50,50), cmap=\"gray\", interpolation='none')\n",
    "    plt.title(\"Predicted Class {},\\nActual Class {}\".format(prediction[i], y_test[i]))\n",
    "    plt.xlabel(labels[prediction[i]])\n",
    "    plt.tight_layout()\n",
    "    j += 1"
   ]
  },
  {
   "cell_type": "markdown",
   "id": "f9839685",
   "metadata": {},
   "source": [
    "some incorrect visualize"
   ]
  },
  {
   "cell_type": "code",
   "execution_count": 29,
   "id": "2e8c329a",
   "metadata": {},
   "outputs": [
    {
     "data": {
      "image/png": "[encoded data removed]",
      "text/plain": [
       "<Figure size 432x288 with 6 Axes>"
      ]
     },
     "metadata": {},
     "output_type": "display_data"
    }
   ],
   "source": [
    "j = 0\n",
    "for i in incorrect[:6]:\n",
    "    plt.subplot(3,3,j+1)\n",
    "    plt.xticks([])\n",
    "    plt.yticks([])\n",
    "    plt.imshow(X_test[i].reshape(50,50), cmap=\"gray\", interpolation='none')\n",
    "    plt.title(\"Predicted Class {},\\nActual Class {}\".format(prediction[i], y_test[i]))\n",
    "    plt.xlabel(labels[prediction[i]])\n",
    "    plt.tight_layout()\n",
    "    j += 1"
   ]
  },
  {
   "cell_type": "markdown",
   "id": "935c07f3",
   "metadata": {},
   "source": [
    "loading saved model"
   ]
  },
  {
   "cell_type": "code",
   "execution_count": 30,
   "id": "4dc7bc59",
   "metadata": {},
   "outputs": [],
   "source": [
    "# load model and predict some some external photo\n",
    "import tensorflow as tf\n",
    "import cv2\n",
    "from PIL import Image\n",
    "import matplotlib.pyplot as plt\n",
    "IMG_SIZE = 50\n",
    "labels = [\"NORMAL\", \"PNEUMONIA\"]\n",
    "def prepare(filepath):\n",
    "    img_array = cv2.imread(filepath, cv2.IMREAD_GRAYSCALE)\n",
    "    new_array = cv2.resize(img_array, (IMG_SIZE, IMG_SIZE))\n",
    "    return new_array.reshape(-1, IMG_SIZE, IMG_SIZE, 1)\n",
    "\n",
    "model = tf.keras.models.load_model(\"model.h5\") # load model"
   ]
  },
  {
   "cell_type": "code",
   "execution_count": 32,
   "id": "b0b67f3f",
   "metadata": {},
   "outputs": [
    {
     "name": "stdout",
     "output_type": "stream",
     "text": [
      "NORMAL\n"
     ]
    }
   ],
   "source": [
    "# extra photo from google\n",
    "prediction = model.predict([prepare(\"C:/Users/shara/Downloads/MAJOR PROJECT/chest_xray/google images/image1.jpg\")])\n",
    "print(labels[int(prediction[0])]) "
   ]
  },
  {
   "cell_type": "code",
   "execution_count": 33,
   "id": "bb389329",
   "metadata": {},
   "outputs": [
    {
     "name": "stdout",
     "output_type": "stream",
     "text": [
      "PNEUMONIA\n"
     ]
    }
   ],
   "source": [
    "# extra photo from google\n",
    "prediction = model.predict([prepare(\"C:/Users/shara/Downloads/MAJOR PROJECT/chest_xray/google images/image2.jpg\")])\n",
    "print(labels[int(prediction[0])])"
   ]
  },
  {
   "cell_type": "code",
   "execution_count": 34,
   "id": "35e9a076",
   "metadata": {},
   "outputs": [
    {
     "name": "stdout",
     "output_type": "stream",
     "text": [
      "NORMAL\n"
     ]
    }
   ],
   "source": [
    "# extra photo from google\n",
    "prediction = model.predict([prepare(\"C:/Users/shara/Downloads/MAJOR PROJECT/chest_xray/google images/image3.jpg\")])\n",
    "print(labels[int(prediction[0])])"
   ]
  },
  {
   "cell_type": "code",
   "execution_count": 35,
   "id": "b82aec67",
   "metadata": {},
   "outputs": [
    {
     "name": "stdout",
     "output_type": "stream",
     "text": [
      "PNEUMONIA\n"
     ]
    }
   ],
   "source": [
    "# extra photo from google\n",
    "prediction = model.predict([prepare(\"C:/Users/shara/Downloads/MAJOR PROJECT/chest_xray/google images/image4.jpg\")])\n",
    "print(labels[int(prediction[0])])"
   ]
  },
  {
   "cell_type": "code",
   "execution_count": 36,
   "id": "2be1b43e",
   "metadata": {},
   "outputs": [
    {
     "name": "stdout",
     "output_type": "stream",
     "text": [
      "PNEUMONIA\n"
     ]
    }
   ],
   "source": [
    "# extra photo from google\n",
    "prediction = model.predict([prepare(\"C:/Users/shara/Downloads/MAJOR PROJECT/chest_xray/google images/image5.jpg\")])\n",
    "print(labels[int(prediction[0])])"
   ]
  },
  {
   "cell_type": "code",
   "execution_count": 38,
   "id": "2cac550e",
   "metadata": {},
   "outputs": [
    {
     "name": "stdout",
     "output_type": "stream",
     "text": [
      "Overwriting templates/index.html\n"
     ]
    }
   ],
   "source": [
    "%%writefile templates/index.html\n",
    "\n",
    "<html>\n",
    "<head>\n",
    "<meta name=\"viewport\" content=\"width=device-width, initial-scale=1\">\n",
    "<style>\n",
    "body{\n",
    "       background-image: url(\"https://cdn.wallpapersafari.com/12/55/IRJb1c.jpg\");\n",
    "       background-repeat: no-repeat;\n",
    "       background-attachment: fixed;\n",
    "       background-size: 100% 100%;\n",
    "     }\n",
    "    \n",
    "    h1{\n",
    "        color:red;\n",
    "    font-size: 45px;\n",
    "    }\n",
    "    \n",
    "   .center {\n",
    "            margin: auto;\n",
    "            width: 70%;\n",
    "            padding: 50px;\n",
    "            position:absolute; \n",
    "            left:490px;\n",
    "            top:145px;\n",
    "            color:white;\n",
    "           }\n",
    "      h3{\n",
    "        font-size: 30px;\n",
    "        color: lightblue;\n",
    "        display: block;\n",
    "        margin-block-start: 1em;\n",
    "        margin-block-end: 1em;\n",
    "        margin-inline-start: 150px;\n",
    "        margin-inline-end: 0px;\n",
    "        font-weight: bold;\n",
    "      }\n",
    "    \n",
    "    p{\n",
    "        color:white;\n",
    "        font-size:35px;\n",
    "    }\n",
    "\n",
    "</style>\n",
    "\n",
    "</head>\n",
    "   <body>\n",
    "      <form action = \"http://localhost:5000/uploader\" method = \"POST\" enctype = \"multipart/form-data\">\n",
    "        <center><h1> Pnemonia Detection Using Chest X-Ray Images </h1></center>\n",
    "        <center><p> Upload X-Ray Image</p></center>\n",
    "        <div class=\"center\">\n",
    "         <input type = \"file\" name = \"file\" />\n",
    "         <input type = \"submit\" value=\"Predict\"/>\n",
    "         <br><br>\n",
    "         <img src=\"{{url_for('static',filename = filen)}}\" alt=\"Pneumonia X-Ray Image\" width=\"455\" height=\"265\"/>\n",
    "         <br><br>\n",
    "         <h3>{{prediction}}</h3>\n",
    "        </div>\n",
    "      </form>\n",
    "   </body>\n",
    "</html>"
   ]
  },
  {
   "cell_type": "code",
   "execution_count": null,
   "id": "82f5c59e",
   "metadata": {},
   "outputs": [],
   "source": []
  }
 ],
 "metadata": {
  "kernelspec": {
   "display_name": "Python 3",
   "language": "python",
   "name": "python3"
  },
  "language_info": {
   "codemirror_mode": {
    "name": "ipython",
    "version": 3
   },
   "file_extension": ".py",
   "mimetype": "text/x-python",
   "name": "python",
   "nbconvert_exporter": "python",
   "pygments_lexer": "ipython3",
   "version": "3.8.8"
  }
 },
 "nbformat": 4,
 "nbformat_minor": 5
}
